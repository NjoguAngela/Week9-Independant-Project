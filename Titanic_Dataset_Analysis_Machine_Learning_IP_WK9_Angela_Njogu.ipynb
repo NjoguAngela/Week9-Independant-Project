{
  "nbformat": 4,
  "nbformat_minor": 0,
  "metadata": {
    "colab": {
      "name": "Titanic_Dataset_Analysis-Machine_Learning-IP_WK9_Angela_Njogu.ipynb",
      "provenance": [],
      "toc_visible": true
    },
    "kernelspec": {
      "name": "python3",
      "display_name": "Python 3"
    },
    "language_info": {
      "name": "python"
    }
  },
  "cells": [
    {
      "cell_type": "markdown",
      "metadata": {
        "id": "20S8uwvo3z3u"
      },
      "source": [
        "## Defining the question"
      ]
    },
    {
      "cell_type": "markdown",
      "metadata": {
        "id": "d7TLViMO359z"
      },
      "source": [
        "### Specifying the question"
      ]
    },
    {
      "cell_type": "markdown",
      "metadata": {
        "id": "qkUSP4QI0_dl"
      },
      "source": [
        "Creating a model that can classify passengers aboard the titanic as either survivors or casualties. "
      ]
    },
    {
      "cell_type": "markdown",
      "metadata": {
        "id": "t29gCTc139TV"
      },
      "source": [
        "### Defining the metrics of success"
      ]
    },
    {
      "cell_type": "markdown",
      "metadata": {
        "id": "Jfu2cAIU5Vr9"
      },
      "source": [
        "\n",
        "\n",
        "> To term my project successful, I should have been able to perform EDA on the data and an appropriate model built for predicting whether a passenger survives the titanic shipwreck or doesn't.\n",
        "\n"
      ]
    },
    {
      "cell_type": "markdown",
      "metadata": {
        "id": "-ELVHGrH4CmD"
      },
      "source": [
        "### Understanding the context"
      ]
    },
    {
      "cell_type": "markdown",
      "metadata": {
        "id": "XkNOwAcd5y7N"
      },
      "source": [
        "\n",
        "\n",
        "> The data details the information of passengers aboard the titanic when it sank. The raw train data contains 12 columns and 891 rows. The train and test sets can be found here.[train](https://archive.org/download/train5_202002/train%20%285%29.csv), [test](https://archive.org/download/test1_202002/test%20%281%29.csv)\n",
        "\n",
        "\n",
        "> The following are the descriptions of the columns in the dataset:\n",
        "- survival - Survival (0 = No; 1 = Yes)\n",
        "- class - Passenger Class (1 = 1st; 2 = 2nd; 3 = 3rd)\n",
        "- name - Name\n",
        "- sex - Sex\n",
        "- age - Age\n",
        "- sibsp - Number of Siblings/Spouses Aboard\n",
        "- parch - Number of Parents/Children Aboard\n",
        "- ticket - Ticket Number\n",
        "- fare - Passenger Fare\n",
        "- cabin - Cabin\n",
        "- embarked - Port of Embarkation (C = Cherbourg; Q = Queenstown; S = Southampton)\n",
        "- boat - Lifeboat (if survived)\n",
        "- body - Body number (if did not survive and body was recovered)\n",
        "\n",
        "\n",
        "\n",
        "\n",
        "\n",
        "\n"
      ]
    },
    {
      "cell_type": "markdown",
      "metadata": {
        "id": "Gay8cPZx4IFr"
      },
      "source": [
        "## Reading the data"
      ]
    },
    {
      "cell_type": "markdown",
      "metadata": {
        "id": "BHOWybsb4Mrb"
      },
      "source": [
        "Importing relevant libraries:"
      ]
    },
    {
      "cell_type": "code",
      "metadata": {
        "id": "MI74FVBU1ghX"
      },
      "source": [
        "import numpy as np\n",
        "import pandas as pd\n",
        "import seaborn as sns\n",
        "import matplotlib.pyplot as plt\n",
        "from sklearn import preprocessing, metrics, neighbors, model_selection\n"
      ],
      "execution_count": 1,
      "outputs": []
    },
    {
      "cell_type": "markdown",
      "metadata": {
        "id": "XYMh96Fz4UlS"
      },
      "source": [
        "Loading of our data:"
      ]
    },
    {
      "cell_type": "code",
      "metadata": {
        "id": "WjiaVGP83Po1"
      },
      "source": [
        "train =pd.read_csv(\"/content/train (5).csv\")\n",
        "test  =pd.read_csv(\"/content/test (1).csv\")"
      ],
      "execution_count": 2,
      "outputs": []
    },
    {
      "cell_type": "markdown",
      "metadata": {
        "id": "QRtByEtfJNCv"
      },
      "source": [
        "Setting parameters for my visualizations"
      ]
    },
    {
      "cell_type": "code",
      "metadata": {
        "id": "C4WxIlMTJMvo"
      },
      "source": [
        "plt.rcParams['figure.figsize'] = (10,8)\n",
        "plt.rcParams['axes.labelsize'] = 10\n",
        "plt.rcParams['axes.titlesize'] = 16\n",
        "plt.rcParams['axes.titleweight'] = 700\n",
        "sns.set_style('darkgrid')"
      ],
      "execution_count": 3,
      "outputs": []
    },
    {
      "cell_type": "markdown",
      "metadata": {
        "id": "G_eazAAIWUMi"
      },
      "source": [
        ""
      ]
    },
    {
      "cell_type": "markdown",
      "metadata": {
        "id": "QRHtpv8N4eRa"
      },
      "source": [
        "## Checking our data"
      ]
    },
    {
      "cell_type": "code",
      "metadata": {
        "colab": {
          "base_uri": "https://localhost:8080/"
        },
        "id": "VclbvRmy4vL6",
        "outputId": "4916b4a3-bcf3-4010-e6a9-db1c4f566159"
      },
      "source": [
        "# checking the columns and rows of the dataframe\n",
        "\n",
        "print('The training dataframe has a total of', train.shape[0],'rows and', train.shape[1],'columns.')\n",
        "print('~'*100,'\\n')\n",
        "print('The testing dataframe has a total of', test.shape[0],'rows and', test.shape[1],'columns.')"
      ],
      "execution_count": 4,
      "outputs": [
        {
          "output_type": "stream",
          "name": "stdout",
          "text": [
            "The training dataframe has a total of 891 rows and 12 columns.\n",
            "~~~~~~~~~~~~~~~~~~~~~~~~~~~~~~~~~~~~~~~~~~~~~~~~~~~~~~~~~~~~~~~~~~~~~~~~~~~~~~~~~~~~~~~~~~~~~~~~~~~~ \n",
            "\n",
            "The testing dataframe has a total of 418 rows and 11 columns.\n"
          ]
        }
      ]
    },
    {
      "cell_type": "markdown",
      "metadata": {
        "id": "lY3kDKG45uNC"
      },
      "source": [
        "- The training data has one more column than the test."
      ]
    },
    {
      "cell_type": "code",
      "metadata": {
        "colab": {
          "base_uri": "https://localhost:8080/"
        },
        "id": "OET4JcIS5nqY",
        "outputId": "6c7d38d6-596c-4b2d-8d16-975cfec0836e"
      },
      "source": [
        "# displaying the data types of the column in the two datasets\n",
        "print(train.info())\n",
        "print('~'*100,'\\n')\n",
        "print(test.info())"
      ],
      "execution_count": 5,
      "outputs": [
        {
          "output_type": "stream",
          "name": "stdout",
          "text": [
            "<class 'pandas.core.frame.DataFrame'>\n",
            "RangeIndex: 891 entries, 0 to 890\n",
            "Data columns (total 12 columns):\n",
            " #   Column       Non-Null Count  Dtype  \n",
            "---  ------       --------------  -----  \n",
            " 0   PassengerId  891 non-null    int64  \n",
            " 1   Survived     891 non-null    int64  \n",
            " 2   Pclass       891 non-null    int64  \n",
            " 3   Name         891 non-null    object \n",
            " 4   Sex          891 non-null    object \n",
            " 5   Age          714 non-null    float64\n",
            " 6   SibSp        891 non-null    int64  \n",
            " 7   Parch        891 non-null    int64  \n",
            " 8   Ticket       891 non-null    object \n",
            " 9   Fare         891 non-null    float64\n",
            " 10  Cabin        204 non-null    object \n",
            " 11  Embarked     889 non-null    object \n",
            "dtypes: float64(2), int64(5), object(5)\n",
            "memory usage: 83.7+ KB\n",
            "None\n",
            "~~~~~~~~~~~~~~~~~~~~~~~~~~~~~~~~~~~~~~~~~~~~~~~~~~~~~~~~~~~~~~~~~~~~~~~~~~~~~~~~~~~~~~~~~~~~~~~~~~~~ \n",
            "\n",
            "<class 'pandas.core.frame.DataFrame'>\n",
            "RangeIndex: 418 entries, 0 to 417\n",
            "Data columns (total 11 columns):\n",
            " #   Column       Non-Null Count  Dtype  \n",
            "---  ------       --------------  -----  \n",
            " 0   PassengerId  418 non-null    int64  \n",
            " 1   Pclass       418 non-null    int64  \n",
            " 2   Name         418 non-null    object \n",
            " 3   Sex          418 non-null    object \n",
            " 4   Age          332 non-null    float64\n",
            " 5   SibSp        418 non-null    int64  \n",
            " 6   Parch        418 non-null    int64  \n",
            " 7   Ticket       418 non-null    object \n",
            " 8   Fare         417 non-null    float64\n",
            " 9   Cabin        91 non-null     object \n",
            " 10  Embarked     418 non-null    object \n",
            "dtypes: float64(2), int64(4), object(5)\n",
            "memory usage: 36.0+ KB\n",
            "None\n"
          ]
        }
      ]
    },
    {
      "cell_type": "markdown",
      "metadata": {
        "id": "3-iyYffn6YAA"
      },
      "source": [
        "- The column not found in the test data is the survived column, our target variable."
      ]
    },
    {
      "cell_type": "code",
      "metadata": {
        "colab": {
          "base_uri": "https://localhost:8080/",
          "height": 0
        },
        "id": "m95jeuvP4h8L",
        "outputId": "1eb28b9f-c436-4299-d16e-89de373418c3"
      },
      "source": [
        "# previewing the head of the train data\n",
        "\n",
        "train.head()\n"
      ],
      "execution_count": 6,
      "outputs": [
        {
          "output_type": "execute_result",
          "data": {
            "text/html": [
              "<div>\n",
              "<style scoped>\n",
              "    .dataframe tbody tr th:only-of-type {\n",
              "        vertical-align: middle;\n",
              "    }\n",
              "\n",
              "    .dataframe tbody tr th {\n",
              "        vertical-align: top;\n",
              "    }\n",
              "\n",
              "    .dataframe thead th {\n",
              "        text-align: right;\n",
              "    }\n",
              "</style>\n",
              "<table border=\"1\" class=\"dataframe\">\n",
              "  <thead>\n",
              "    <tr style=\"text-align: right;\">\n",
              "      <th></th>\n",
              "      <th>PassengerId</th>\n",
              "      <th>Survived</th>\n",
              "      <th>Pclass</th>\n",
              "      <th>Name</th>\n",
              "      <th>Sex</th>\n",
              "      <th>Age</th>\n",
              "      <th>SibSp</th>\n",
              "      <th>Parch</th>\n",
              "      <th>Ticket</th>\n",
              "      <th>Fare</th>\n",
              "      <th>Cabin</th>\n",
              "      <th>Embarked</th>\n",
              "    </tr>\n",
              "  </thead>\n",
              "  <tbody>\n",
              "    <tr>\n",
              "      <th>0</th>\n",
              "      <td>1</td>\n",
              "      <td>0</td>\n",
              "      <td>3</td>\n",
              "      <td>Braund, Mr. Owen Harris</td>\n",
              "      <td>male</td>\n",
              "      <td>22.0</td>\n",
              "      <td>1</td>\n",
              "      <td>0</td>\n",
              "      <td>A/5 21171</td>\n",
              "      <td>7.2500</td>\n",
              "      <td>NaN</td>\n",
              "      <td>S</td>\n",
              "    </tr>\n",
              "    <tr>\n",
              "      <th>1</th>\n",
              "      <td>2</td>\n",
              "      <td>1</td>\n",
              "      <td>1</td>\n",
              "      <td>Cumings, Mrs. John Bradley (Florence Briggs Th...</td>\n",
              "      <td>female</td>\n",
              "      <td>38.0</td>\n",
              "      <td>1</td>\n",
              "      <td>0</td>\n",
              "      <td>PC 17599</td>\n",
              "      <td>71.2833</td>\n",
              "      <td>C85</td>\n",
              "      <td>C</td>\n",
              "    </tr>\n",
              "    <tr>\n",
              "      <th>2</th>\n",
              "      <td>3</td>\n",
              "      <td>1</td>\n",
              "      <td>3</td>\n",
              "      <td>Heikkinen, Miss. Laina</td>\n",
              "      <td>female</td>\n",
              "      <td>26.0</td>\n",
              "      <td>0</td>\n",
              "      <td>0</td>\n",
              "      <td>STON/O2. 3101282</td>\n",
              "      <td>7.9250</td>\n",
              "      <td>NaN</td>\n",
              "      <td>S</td>\n",
              "    </tr>\n",
              "    <tr>\n",
              "      <th>3</th>\n",
              "      <td>4</td>\n",
              "      <td>1</td>\n",
              "      <td>1</td>\n",
              "      <td>Futrelle, Mrs. Jacques Heath (Lily May Peel)</td>\n",
              "      <td>female</td>\n",
              "      <td>35.0</td>\n",
              "      <td>1</td>\n",
              "      <td>0</td>\n",
              "      <td>113803</td>\n",
              "      <td>53.1000</td>\n",
              "      <td>C123</td>\n",
              "      <td>S</td>\n",
              "    </tr>\n",
              "    <tr>\n",
              "      <th>4</th>\n",
              "      <td>5</td>\n",
              "      <td>0</td>\n",
              "      <td>3</td>\n",
              "      <td>Allen, Mr. William Henry</td>\n",
              "      <td>male</td>\n",
              "      <td>35.0</td>\n",
              "      <td>0</td>\n",
              "      <td>0</td>\n",
              "      <td>373450</td>\n",
              "      <td>8.0500</td>\n",
              "      <td>NaN</td>\n",
              "      <td>S</td>\n",
              "    </tr>\n",
              "  </tbody>\n",
              "</table>\n",
              "</div>"
            ],
            "text/plain": [
              "   PassengerId  Survived  Pclass  ...     Fare Cabin  Embarked\n",
              "0            1         0       3  ...   7.2500   NaN         S\n",
              "1            2         1       1  ...  71.2833   C85         C\n",
              "2            3         1       3  ...   7.9250   NaN         S\n",
              "3            4         1       1  ...  53.1000  C123         S\n",
              "4            5         0       3  ...   8.0500   NaN         S\n",
              "\n",
              "[5 rows x 12 columns]"
            ]
          },
          "metadata": {},
          "execution_count": 6
        }
      ]
    },
    {
      "cell_type": "code",
      "metadata": {
        "colab": {
          "base_uri": "https://localhost:8080/",
          "height": 0
        },
        "id": "jIlybTCb631u",
        "outputId": "072d6b8a-1bd1-4b23-e5e4-2fda96a98126"
      },
      "source": [
        "# previewing the head of the test data\n",
        "\n",
        "test.head()"
      ],
      "execution_count": 7,
      "outputs": [
        {
          "output_type": "execute_result",
          "data": {
            "text/html": [
              "<div>\n",
              "<style scoped>\n",
              "    .dataframe tbody tr th:only-of-type {\n",
              "        vertical-align: middle;\n",
              "    }\n",
              "\n",
              "    .dataframe tbody tr th {\n",
              "        vertical-align: top;\n",
              "    }\n",
              "\n",
              "    .dataframe thead th {\n",
              "        text-align: right;\n",
              "    }\n",
              "</style>\n",
              "<table border=\"1\" class=\"dataframe\">\n",
              "  <thead>\n",
              "    <tr style=\"text-align: right;\">\n",
              "      <th></th>\n",
              "      <th>PassengerId</th>\n",
              "      <th>Pclass</th>\n",
              "      <th>Name</th>\n",
              "      <th>Sex</th>\n",
              "      <th>Age</th>\n",
              "      <th>SibSp</th>\n",
              "      <th>Parch</th>\n",
              "      <th>Ticket</th>\n",
              "      <th>Fare</th>\n",
              "      <th>Cabin</th>\n",
              "      <th>Embarked</th>\n",
              "    </tr>\n",
              "  </thead>\n",
              "  <tbody>\n",
              "    <tr>\n",
              "      <th>0</th>\n",
              "      <td>892</td>\n",
              "      <td>3</td>\n",
              "      <td>Kelly, Mr. James</td>\n",
              "      <td>male</td>\n",
              "      <td>34.5</td>\n",
              "      <td>0</td>\n",
              "      <td>0</td>\n",
              "      <td>330911</td>\n",
              "      <td>7.8292</td>\n",
              "      <td>NaN</td>\n",
              "      <td>Q</td>\n",
              "    </tr>\n",
              "    <tr>\n",
              "      <th>1</th>\n",
              "      <td>893</td>\n",
              "      <td>3</td>\n",
              "      <td>Wilkes, Mrs. James (Ellen Needs)</td>\n",
              "      <td>female</td>\n",
              "      <td>47.0</td>\n",
              "      <td>1</td>\n",
              "      <td>0</td>\n",
              "      <td>363272</td>\n",
              "      <td>7.0000</td>\n",
              "      <td>NaN</td>\n",
              "      <td>S</td>\n",
              "    </tr>\n",
              "    <tr>\n",
              "      <th>2</th>\n",
              "      <td>894</td>\n",
              "      <td>2</td>\n",
              "      <td>Myles, Mr. Thomas Francis</td>\n",
              "      <td>male</td>\n",
              "      <td>62.0</td>\n",
              "      <td>0</td>\n",
              "      <td>0</td>\n",
              "      <td>240276</td>\n",
              "      <td>9.6875</td>\n",
              "      <td>NaN</td>\n",
              "      <td>Q</td>\n",
              "    </tr>\n",
              "    <tr>\n",
              "      <th>3</th>\n",
              "      <td>895</td>\n",
              "      <td>3</td>\n",
              "      <td>Wirz, Mr. Albert</td>\n",
              "      <td>male</td>\n",
              "      <td>27.0</td>\n",
              "      <td>0</td>\n",
              "      <td>0</td>\n",
              "      <td>315154</td>\n",
              "      <td>8.6625</td>\n",
              "      <td>NaN</td>\n",
              "      <td>S</td>\n",
              "    </tr>\n",
              "    <tr>\n",
              "      <th>4</th>\n",
              "      <td>896</td>\n",
              "      <td>3</td>\n",
              "      <td>Hirvonen, Mrs. Alexander (Helga E Lindqvist)</td>\n",
              "      <td>female</td>\n",
              "      <td>22.0</td>\n",
              "      <td>1</td>\n",
              "      <td>1</td>\n",
              "      <td>3101298</td>\n",
              "      <td>12.2875</td>\n",
              "      <td>NaN</td>\n",
              "      <td>S</td>\n",
              "    </tr>\n",
              "  </tbody>\n",
              "</table>\n",
              "</div>"
            ],
            "text/plain": [
              "   PassengerId  Pclass  ... Cabin Embarked\n",
              "0          892       3  ...   NaN        Q\n",
              "1          893       3  ...   NaN        S\n",
              "2          894       2  ...   NaN        Q\n",
              "3          895       3  ...   NaN        S\n",
              "4          896       3  ...   NaN        S\n",
              "\n",
              "[5 rows x 11 columns]"
            ]
          },
          "metadata": {},
          "execution_count": 7
        }
      ]
    },
    {
      "cell_type": "code",
      "metadata": {
        "colab": {
          "base_uri": "https://localhost:8080/",
          "height": 0
        },
        "id": "wha4p6q53fkB",
        "outputId": "87a8a701-0a0c-4e3d-e399-5f079c26b391"
      },
      "source": [
        "# previewing the bottom 5 rows in the training dataframe\n",
        "\n",
        "train.tail()"
      ],
      "execution_count": 8,
      "outputs": [
        {
          "output_type": "execute_result",
          "data": {
            "text/html": [
              "<div>\n",
              "<style scoped>\n",
              "    .dataframe tbody tr th:only-of-type {\n",
              "        vertical-align: middle;\n",
              "    }\n",
              "\n",
              "    .dataframe tbody tr th {\n",
              "        vertical-align: top;\n",
              "    }\n",
              "\n",
              "    .dataframe thead th {\n",
              "        text-align: right;\n",
              "    }\n",
              "</style>\n",
              "<table border=\"1\" class=\"dataframe\">\n",
              "  <thead>\n",
              "    <tr style=\"text-align: right;\">\n",
              "      <th></th>\n",
              "      <th>PassengerId</th>\n",
              "      <th>Survived</th>\n",
              "      <th>Pclass</th>\n",
              "      <th>Name</th>\n",
              "      <th>Sex</th>\n",
              "      <th>Age</th>\n",
              "      <th>SibSp</th>\n",
              "      <th>Parch</th>\n",
              "      <th>Ticket</th>\n",
              "      <th>Fare</th>\n",
              "      <th>Cabin</th>\n",
              "      <th>Embarked</th>\n",
              "    </tr>\n",
              "  </thead>\n",
              "  <tbody>\n",
              "    <tr>\n",
              "      <th>886</th>\n",
              "      <td>887</td>\n",
              "      <td>0</td>\n",
              "      <td>2</td>\n",
              "      <td>Montvila, Rev. Juozas</td>\n",
              "      <td>male</td>\n",
              "      <td>27.0</td>\n",
              "      <td>0</td>\n",
              "      <td>0</td>\n",
              "      <td>211536</td>\n",
              "      <td>13.00</td>\n",
              "      <td>NaN</td>\n",
              "      <td>S</td>\n",
              "    </tr>\n",
              "    <tr>\n",
              "      <th>887</th>\n",
              "      <td>888</td>\n",
              "      <td>1</td>\n",
              "      <td>1</td>\n",
              "      <td>Graham, Miss. Margaret Edith</td>\n",
              "      <td>female</td>\n",
              "      <td>19.0</td>\n",
              "      <td>0</td>\n",
              "      <td>0</td>\n",
              "      <td>112053</td>\n",
              "      <td>30.00</td>\n",
              "      <td>B42</td>\n",
              "      <td>S</td>\n",
              "    </tr>\n",
              "    <tr>\n",
              "      <th>888</th>\n",
              "      <td>889</td>\n",
              "      <td>0</td>\n",
              "      <td>3</td>\n",
              "      <td>Johnston, Miss. Catherine Helen \"Carrie\"</td>\n",
              "      <td>female</td>\n",
              "      <td>NaN</td>\n",
              "      <td>1</td>\n",
              "      <td>2</td>\n",
              "      <td>W./C. 6607</td>\n",
              "      <td>23.45</td>\n",
              "      <td>NaN</td>\n",
              "      <td>S</td>\n",
              "    </tr>\n",
              "    <tr>\n",
              "      <th>889</th>\n",
              "      <td>890</td>\n",
              "      <td>1</td>\n",
              "      <td>1</td>\n",
              "      <td>Behr, Mr. Karl Howell</td>\n",
              "      <td>male</td>\n",
              "      <td>26.0</td>\n",
              "      <td>0</td>\n",
              "      <td>0</td>\n",
              "      <td>111369</td>\n",
              "      <td>30.00</td>\n",
              "      <td>C148</td>\n",
              "      <td>C</td>\n",
              "    </tr>\n",
              "    <tr>\n",
              "      <th>890</th>\n",
              "      <td>891</td>\n",
              "      <td>0</td>\n",
              "      <td>3</td>\n",
              "      <td>Dooley, Mr. Patrick</td>\n",
              "      <td>male</td>\n",
              "      <td>32.0</td>\n",
              "      <td>0</td>\n",
              "      <td>0</td>\n",
              "      <td>370376</td>\n",
              "      <td>7.75</td>\n",
              "      <td>NaN</td>\n",
              "      <td>Q</td>\n",
              "    </tr>\n",
              "  </tbody>\n",
              "</table>\n",
              "</div>"
            ],
            "text/plain": [
              "     PassengerId  Survived  Pclass  ...   Fare Cabin  Embarked\n",
              "886          887         0       2  ...  13.00   NaN         S\n",
              "887          888         1       1  ...  30.00   B42         S\n",
              "888          889         0       3  ...  23.45   NaN         S\n",
              "889          890         1       1  ...  30.00  C148         C\n",
              "890          891         0       3  ...   7.75   NaN         Q\n",
              "\n",
              "[5 rows x 12 columns]"
            ]
          },
          "metadata": {},
          "execution_count": 8
        }
      ]
    },
    {
      "cell_type": "code",
      "metadata": {
        "colab": {
          "base_uri": "https://localhost:8080/",
          "height": 0
        },
        "id": "gsvEd3bD695N",
        "outputId": "39f44d38-d29f-4879-edf1-1e9cb9e34629"
      },
      "source": [
        "# previewing the bottom 5 rows in the testing dataframe\n",
        "\n",
        "test.tail()"
      ],
      "execution_count": 9,
      "outputs": [
        {
          "output_type": "execute_result",
          "data": {
            "text/html": [
              "<div>\n",
              "<style scoped>\n",
              "    .dataframe tbody tr th:only-of-type {\n",
              "        vertical-align: middle;\n",
              "    }\n",
              "\n",
              "    .dataframe tbody tr th {\n",
              "        vertical-align: top;\n",
              "    }\n",
              "\n",
              "    .dataframe thead th {\n",
              "        text-align: right;\n",
              "    }\n",
              "</style>\n",
              "<table border=\"1\" class=\"dataframe\">\n",
              "  <thead>\n",
              "    <tr style=\"text-align: right;\">\n",
              "      <th></th>\n",
              "      <th>PassengerId</th>\n",
              "      <th>Pclass</th>\n",
              "      <th>Name</th>\n",
              "      <th>Sex</th>\n",
              "      <th>Age</th>\n",
              "      <th>SibSp</th>\n",
              "      <th>Parch</th>\n",
              "      <th>Ticket</th>\n",
              "      <th>Fare</th>\n",
              "      <th>Cabin</th>\n",
              "      <th>Embarked</th>\n",
              "    </tr>\n",
              "  </thead>\n",
              "  <tbody>\n",
              "    <tr>\n",
              "      <th>413</th>\n",
              "      <td>1305</td>\n",
              "      <td>3</td>\n",
              "      <td>Spector, Mr. Woolf</td>\n",
              "      <td>male</td>\n",
              "      <td>NaN</td>\n",
              "      <td>0</td>\n",
              "      <td>0</td>\n",
              "      <td>A.5. 3236</td>\n",
              "      <td>8.0500</td>\n",
              "      <td>NaN</td>\n",
              "      <td>S</td>\n",
              "    </tr>\n",
              "    <tr>\n",
              "      <th>414</th>\n",
              "      <td>1306</td>\n",
              "      <td>1</td>\n",
              "      <td>Oliva y Ocana, Dona. Fermina</td>\n",
              "      <td>female</td>\n",
              "      <td>39.0</td>\n",
              "      <td>0</td>\n",
              "      <td>0</td>\n",
              "      <td>PC 17758</td>\n",
              "      <td>108.9000</td>\n",
              "      <td>C105</td>\n",
              "      <td>C</td>\n",
              "    </tr>\n",
              "    <tr>\n",
              "      <th>415</th>\n",
              "      <td>1307</td>\n",
              "      <td>3</td>\n",
              "      <td>Saether, Mr. Simon Sivertsen</td>\n",
              "      <td>male</td>\n",
              "      <td>38.5</td>\n",
              "      <td>0</td>\n",
              "      <td>0</td>\n",
              "      <td>SOTON/O.Q. 3101262</td>\n",
              "      <td>7.2500</td>\n",
              "      <td>NaN</td>\n",
              "      <td>S</td>\n",
              "    </tr>\n",
              "    <tr>\n",
              "      <th>416</th>\n",
              "      <td>1308</td>\n",
              "      <td>3</td>\n",
              "      <td>Ware, Mr. Frederick</td>\n",
              "      <td>male</td>\n",
              "      <td>NaN</td>\n",
              "      <td>0</td>\n",
              "      <td>0</td>\n",
              "      <td>359309</td>\n",
              "      <td>8.0500</td>\n",
              "      <td>NaN</td>\n",
              "      <td>S</td>\n",
              "    </tr>\n",
              "    <tr>\n",
              "      <th>417</th>\n",
              "      <td>1309</td>\n",
              "      <td>3</td>\n",
              "      <td>Peter, Master. Michael J</td>\n",
              "      <td>male</td>\n",
              "      <td>NaN</td>\n",
              "      <td>1</td>\n",
              "      <td>1</td>\n",
              "      <td>2668</td>\n",
              "      <td>22.3583</td>\n",
              "      <td>NaN</td>\n",
              "      <td>C</td>\n",
              "    </tr>\n",
              "  </tbody>\n",
              "</table>\n",
              "</div>"
            ],
            "text/plain": [
              "     PassengerId  Pclass                          Name  ...      Fare  Cabin  Embarked\n",
              "413         1305       3            Spector, Mr. Woolf  ...    8.0500    NaN         S\n",
              "414         1306       1  Oliva y Ocana, Dona. Fermina  ...  108.9000   C105         C\n",
              "415         1307       3  Saether, Mr. Simon Sivertsen  ...    7.2500    NaN         S\n",
              "416         1308       3           Ware, Mr. Frederick  ...    8.0500    NaN         S\n",
              "417         1309       3      Peter, Master. Michael J  ...   22.3583    NaN         C\n",
              "\n",
              "[5 rows x 11 columns]"
            ]
          },
          "metadata": {},
          "execution_count": 9
        }
      ]
    },
    {
      "cell_type": "markdown",
      "metadata": {
        "id": "fXyND_GS7RjG"
      },
      "source": [
        "## Data cleaning"
      ]
    },
    {
      "cell_type": "code",
      "metadata": {
        "id": "-Hpbe0Q2A0vZ"
      },
      "source": [
        "# dropping unnecessary columns\n",
        "# the column Name and passengerid is to be dropped as it will not be useful during analysis.\n",
        "# I do not wish to use discrete data with a number of unique values in my analysis.\n",
        "\n",
        "train.drop(['Name', 'PassengerId', 'Ticket', 'Cabin'], axis=1, inplace=True)\n",
        "test.drop(['Name', 'PassengerId', 'Ticket', 'Cabin'], axis=1, inplace=True)\n"
      ],
      "execution_count": 10,
      "outputs": []
    },
    {
      "cell_type": "code",
      "metadata": {
        "colab": {
          "base_uri": "https://localhost:8080/"
        },
        "id": "MwCg7ut37aMU",
        "outputId": "3de162f7-18ec-4dd0-ddb8-4fc68149e05f"
      },
      "source": [
        "# checking for duplicates and missing values\n",
        "\n",
        "def misdup(data):\n",
        "\n",
        "  print(\"There are duplicates in our dataset. This statement is:\",data.duplicated().any())\n",
        "  print(\"There are null values in our dataset. This statement is: \",data.isnull().any().any())\n",
        "\n",
        "\n",
        "print(misdup(train))\n",
        "print('~'*100)\n",
        "print(misdup(test))"
      ],
      "execution_count": 11,
      "outputs": [
        {
          "output_type": "stream",
          "name": "stdout",
          "text": [
            "There are duplicates in our dataset. This statement is: True\n",
            "There are null values in our dataset. This statement is:  True\n",
            "None\n",
            "~~~~~~~~~~~~~~~~~~~~~~~~~~~~~~~~~~~~~~~~~~~~~~~~~~~~~~~~~~~~~~~~~~~~~~~~~~~~~~~~~~~~~~~~~~~~~~~~~~~~\n",
            "There are duplicates in our dataset. This statement is: True\n",
            "There are null values in our dataset. This statement is:  True\n",
            "None\n"
          ]
        }
      ]
    },
    {
      "cell_type": "code",
      "metadata": {
        "id": "L0PLW91USWJt"
      },
      "source": [
        "# eliminating duplicates\n",
        "\n",
        "train.drop_duplicates(inplace=True)\n",
        "train.drop_duplicates(inplace=True)"
      ],
      "execution_count": 12,
      "outputs": []
    },
    {
      "cell_type": "code",
      "metadata": {
        "colab": {
          "base_uri": "https://localhost:8080/"
        },
        "id": "Mu0okYw47U3c",
        "outputId": "27194809-0e71-4d63-99f0-20fe8369ddfc"
      },
      "source": [
        "# computing the number of missing values in the dataframe\n",
        "\n",
        "print(train.isnull().sum())\n",
        "print('~'*100,'\\n')\n",
        "print(test.isnull().sum())\n",
        "  "
      ],
      "execution_count": 13,
      "outputs": [
        {
          "output_type": "stream",
          "name": "stdout",
          "text": [
            "Survived      0\n",
            "Pclass        0\n",
            "Sex           0\n",
            "Age         104\n",
            "SibSp         0\n",
            "Parch         0\n",
            "Fare          0\n",
            "Embarked      2\n",
            "dtype: int64\n",
            "~~~~~~~~~~~~~~~~~~~~~~~~~~~~~~~~~~~~~~~~~~~~~~~~~~~~~~~~~~~~~~~~~~~~~~~~~~~~~~~~~~~~~~~~~~~~~~~~~~~~ \n",
            "\n",
            "Pclass       0\n",
            "Sex          0\n",
            "Age         86\n",
            "SibSp        0\n",
            "Parch        0\n",
            "Fare         1\n",
            "Embarked     0\n",
            "dtype: int64\n"
          ]
        }
      ]
    },
    {
      "cell_type": "code",
      "metadata": {
        "id": "JfsXniru9zpC"
      },
      "source": [
        "# filling the null values in the embarked column with the mode\n",
        "\n",
        "emode = train['Embarked'].mode()\n",
        "\n",
        "train['Embarked'].fillna(emode[0], inplace=True, axis=0)"
      ],
      "execution_count": 14,
      "outputs": []
    },
    {
      "cell_type": "code",
      "metadata": {
        "colab": {
          "base_uri": "https://localhost:8080/"
        },
        "id": "2U1VmCFn__Cw",
        "outputId": "9c65982a-c97c-430d-8ea8-09325373a21b"
      },
      "source": [
        "train['Embarked'].unique()"
      ],
      "execution_count": 15,
      "outputs": [
        {
          "output_type": "execute_result",
          "data": {
            "text/plain": [
              "array(['S', 'C', 'Q'], dtype=object)"
            ]
          },
          "metadata": {},
          "execution_count": 15
        }
      ]
    },
    {
      "cell_type": "code",
      "metadata": {
        "id": "-lCTzddVAy0z"
      },
      "source": [
        "# defining a function to fill the null values in ages column\n",
        "\n",
        "def mean_mode_med(data):\n",
        "\n",
        "# computes the mean, mode and median of the column\n",
        "  mn = data['Age'].mean()\n",
        "  md = data['Age'].median()\n",
        "  mo = data['Age'].mode()\n",
        "\n",
        "# calculates the average of the three\n",
        "  av = (mn+md+mo) /3\n",
        "\n",
        "  return av\n",
        "\n",
        "\n",
        "# obtaining the outputs\n",
        "train_filler = mean_mode_med(train)\n",
        "test_filler = mean_mode_med(test)"
      ],
      "execution_count": 16,
      "outputs": []
    },
    {
      "cell_type": "code",
      "metadata": {
        "id": "KLzfHw1YCiol"
      },
      "source": [
        "# filling the null values\n",
        "train['Age'].fillna(train_filler[0], inplace=True)\n",
        "test['Age'].fillna(test_filler[1], inplace=True)"
      ],
      "execution_count": 17,
      "outputs": []
    },
    {
      "cell_type": "code",
      "metadata": {
        "colab": {
          "base_uri": "https://localhost:8080/"
        },
        "id": "pG4t_QEPDeEE",
        "outputId": "a247c6fa-32cf-49f4-c422-8129246b5abf"
      },
      "source": [
        "# confirming abscence of null values\n",
        "train.isnull().sum()"
      ],
      "execution_count": 18,
      "outputs": [
        {
          "output_type": "execute_result",
          "data": {
            "text/plain": [
              "Survived    0\n",
              "Pclass      0\n",
              "Sex         0\n",
              "Age         0\n",
              "SibSp       0\n",
              "Parch       0\n",
              "Fare        0\n",
              "Embarked    0\n",
              "dtype: int64"
            ]
          },
          "metadata": {},
          "execution_count": 18
        }
      ]
    },
    {
      "cell_type": "code",
      "metadata": {
        "colab": {
          "base_uri": "https://localhost:8080/"
        },
        "id": "ks9NxOW7C38m",
        "outputId": "68934569-a0d4-4984-f8b9-5fa3347743e8"
      },
      "source": [
        "train.shape"
      ],
      "execution_count": 19,
      "outputs": [
        {
          "output_type": "execute_result",
          "data": {
            "text/plain": [
              "(780, 8)"
            ]
          },
          "metadata": {},
          "execution_count": 19
        }
      ]
    },
    {
      "cell_type": "markdown",
      "metadata": {
        "id": "mVLzCow2GBGm"
      },
      "source": [
        "## Exploratory Data Analysis"
      ]
    },
    {
      "cell_type": "markdown",
      "metadata": {
        "id": "BZfdf_NUGIvd"
      },
      "source": [
        "The EDA will only be performed on the training dataset"
      ]
    },
    {
      "cell_type": "markdown",
      "metadata": {
        "id": "UH7JiEFBGFU4"
      },
      "source": [
        "### Univariate analysis"
      ]
    },
    {
      "cell_type": "code",
      "metadata": {
        "colab": {
          "base_uri": "https://localhost:8080/",
          "height": 532
        },
        "id": "LqNnxbCoMtk5",
        "outputId": "f3b39433-e603-4c9b-ed82-141e6b9b121b"
      },
      "source": [
        "# plotting the numbers of survivors and casualties\n",
        "sns.countplot(x=train['Survived'], palette='cubehelix')\n",
        "plt.title(\"Plot of survivors and non-survivors\")"
      ],
      "execution_count": 20,
      "outputs": [
        {
          "output_type": "execute_result",
          "data": {
            "text/plain": [
              "Text(0.5, 1.0, 'Plot of survivors and non-survivors')"
            ]
          },
          "metadata": {},
          "execution_count": 20
        },
        {
          "output_type": "display_data",
          "data": {
            "image/png": "[encoded data removed]",
            "text/plain": [
              "<Figure size 720x576 with 1 Axes>"
            ]
          },
          "metadata": {}
        }
      ]
    },
    {
      "cell_type": "markdown",
      "metadata": {
        "id": "knwuWBt7DRlj"
      },
      "source": [
        "- There were more casualties than survivors. The margin between the two categories is not very large."
      ]
    },
    {
      "cell_type": "code",
      "metadata": {
        "colab": {
          "base_uri": "https://localhost:8080/",
          "height": 532
        },
        "id": "5M4K7sWGINEN",
        "outputId": "a9d00787-b36d-4aed-fc52-56ca43526295"
      },
      "source": [
        "# plotting the number of people who embarked from the three ports\n",
        "sns.countplot(x=train['Embarked'], palette='cubehelix')\n",
        "plt.title('Number of people embarked from each location')"
      ],
      "execution_count": 21,
      "outputs": [
        {
          "output_type": "execute_result",
          "data": {
            "text/plain": [
              "Text(0.5, 1.0, 'Number of people embarked from each location')"
            ]
          },
          "metadata": {},
          "execution_count": 21
        },
        {
          "output_type": "display_data",
          "data": {
            "image/png": "[encoded data removed]",
            "text/plain": [
              "<Figure size 720x576 with 1 Axes>"
            ]
          },
          "metadata": {}
        }
      ]
    },
    {
      "cell_type": "markdown",
      "metadata": {
        "id": "t5VQjL9WDoA-"
      },
      "source": [
        "- Most of the passengers began their journey at southhampton and the least began from the port of Queenstown."
      ]
    },
    {
      "cell_type": "code",
      "metadata": {
        "colab": {
          "base_uri": "https://localhost:8080/",
          "height": 532
        },
        "id": "T1sD_D1zIgCF",
        "outputId": "3c675bb6-1c04-4795-d409-1bef3c0e26bf"
      },
      "source": [
        "# plotting the number of passengers in the different classes\n",
        "sns.countplot(x= train['Pclass'], palette='cubehelix')\n",
        "plt.title(\"Number of passengers in the different classes\")"
      ],
      "execution_count": 22,
      "outputs": [
        {
          "output_type": "execute_result",
          "data": {
            "text/plain": [
              "Text(0.5, 1.0, 'Number of passengers in the different classes')"
            ]
          },
          "metadata": {},
          "execution_count": 22
        },
        {
          "output_type": "display_data",
          "data": {
            "image/png": "[encoded data removed]",
            "text/plain": [
              "<Figure size 720x576 with 1 Axes>"
            ]
          },
          "metadata": {}
        }
      ]
    },
    {
      "cell_type": "markdown",
      "metadata": {
        "id": "DGkIZ86_D_l3"
      },
      "source": [
        "- 3rd class had the largest number of passengers and 2nd class the least."
      ]
    },
    {
      "cell_type": "code",
      "metadata": {
        "colab": {
          "base_uri": "https://localhost:8080/",
          "height": 586
        },
        "id": "N51mQo1nKYVt",
        "outputId": "1ab3369a-12da-452f-c4b0-464d5147fd34"
      },
      "source": [
        "# plotting the distribution of the passengers' total number of spouses or siblings\n",
        "\n",
        "sns.distplot(train['SibSp'], bins=5)\n",
        "plt.title(\"Distribution of number of spouses or siblings\")"
      ],
      "execution_count": 23,
      "outputs": [
        {
          "output_type": "stream",
          "name": "stderr",
          "text": [
            "/usr/local/lib/python3.7/dist-packages/seaborn/distributions.py:2619: FutureWarning: `distplot` is a deprecated function and will be removed in a future version. Please adapt your code to use either `displot` (a figure-level function with similar flexibility) or `histplot` (an axes-level function for histograms).\n",
            "  warnings.warn(msg, FutureWarning)\n"
          ]
        },
        {
          "output_type": "execute_result",
          "data": {
            "text/plain": [
              "Text(0.5, 1.0, 'Distribution of number of spouses or siblings')"
            ]
          },
          "metadata": {},
          "execution_count": 23
        },
        {
          "output_type": "display_data",
          "data": {
            "image/png": "[encoded data removed]",
            "text/plain": [
              "<Figure size 720x576 with 1 Axes>"
            ]
          },
          "metadata": {}
        }
      ]
    },
    {
      "cell_type": "markdown",
      "metadata": {
        "id": "AW9MXlLwEc33"
      },
      "source": [
        "- A majority of the passengers had 0 or 1 spouse or sibling only."
      ]
    },
    {
      "cell_type": "code",
      "metadata": {
        "colab": {
          "base_uri": "https://localhost:8080/",
          "height": 586
        },
        "id": "1yXiCFhaK58H",
        "outputId": "52d20d95-f512-46da-d761-b3af0f626388"
      },
      "source": [
        "# plotting the ditribution of number of parents/children and individual is travelling with\n",
        "\n",
        "sns.distplot(train['Parch'], bins=5)\n",
        "plt.title(\"Distribution of number of parents and children\")"
      ],
      "execution_count": 24,
      "outputs": [
        {
          "output_type": "stream",
          "name": "stderr",
          "text": [
            "/usr/local/lib/python3.7/dist-packages/seaborn/distributions.py:2619: FutureWarning: `distplot` is a deprecated function and will be removed in a future version. Please adapt your code to use either `displot` (a figure-level function with similar flexibility) or `histplot` (an axes-level function for histograms).\n",
            "  warnings.warn(msg, FutureWarning)\n"
          ]
        },
        {
          "output_type": "execute_result",
          "data": {
            "text/plain": [
              "Text(0.5, 1.0, 'Distribution of number of parents and children')"
            ]
          },
          "metadata": {},
          "execution_count": 24
        },
        {
          "output_type": "display_data",
          "data": {
            "image/png": "[encoded data removed]",
            "text/plain": [
              "<Figure size 720x576 with 1 Axes>"
            ]
          },
          "metadata": {}
        }
      ]
    },
    {
      "cell_type": "markdown",
      "metadata": {
        "id": "5pOi-5SDE5J0"
      },
      "source": [
        "- A majority of passengers had 0 or at least 1 parent or child."
      ]
    },
    {
      "cell_type": "markdown",
      "metadata": {
        "id": "4zSOnG0AGTgm"
      },
      "source": [
        "### Bivariate analysis"
      ]
    },
    {
      "cell_type": "code",
      "metadata": {
        "colab": {
          "base_uri": "https://localhost:8080/",
          "height": 532
        },
        "id": "1N_jhjdrL1iz",
        "outputId": "89fc97c0-e7e6-4743-860b-e5dcb8193608"
      },
      "source": [
        "# plotting the number of survivors and casualties as per the ports they embarked from.\n",
        "\n",
        "sns.countplot(x= train['Embarked'], hue= train['Survived'], palette='cubehelix')\n",
        "plt.title(\"Number of casualties and survivors per port.\")"
      ],
      "execution_count": 25,
      "outputs": [
        {
          "output_type": "execute_result",
          "data": {
            "text/plain": [
              "Text(0.5, 1.0, 'Number of casualties and survivors per port.')"
            ]
          },
          "metadata": {},
          "execution_count": 25
        },
        {
          "output_type": "display_data",
          "data": {
            "image/png": "[encoded data removed]",
            "text/plain": [
              "<Figure size 720x576 with 1 Axes>"
            ]
          },
          "metadata": {}
        }
      ]
    },
    {
      "cell_type": "markdown",
      "metadata": {
        "id": "WJBHxvyuFTo8"
      },
      "source": [
        "- Cherboug is the only category that has more survivors than casualties."
      ]
    },
    {
      "cell_type": "code",
      "metadata": {
        "colab": {
          "base_uri": "https://localhost:8080/",
          "height": 532
        },
        "id": "xO3MXeDnI3qI",
        "outputId": "4ea351e5-9306-4f56-9477-cf65acd47264"
      },
      "source": [
        "# plotting the fare distribution for the different classes\n",
        "sns.boxplot(x= train['Pclass'], y= train['Fare'], palette='cubehelix')\n",
        "plt.title(\"Fare for passengers in the first, second and third class \")"
      ],
      "execution_count": 26,
      "outputs": [
        {
          "output_type": "execute_result",
          "data": {
            "text/plain": [
              "Text(0.5, 1.0, 'Fare for passengers in the first, second and third class ')"
            ]
          },
          "metadata": {},
          "execution_count": 26
        },
        {
          "output_type": "display_data",
          "data": {
            "image/png": "[encoded data removed]",
            "text/plain": [
              "<Figure size 720x576 with 1 Axes>"
            ]
          },
          "metadata": {}
        }
      ]
    },
    {
      "cell_type": "markdown",
      "metadata": {
        "id": "xIslF4SYF9pD"
      },
      "source": [
        "- As expected the prices are higher for first class tickets than all the others and 3rd class the least. \n",
        "- The 1st class column has a very conspicuous outlier."
      ]
    },
    {
      "cell_type": "code",
      "metadata": {
        "colab": {
          "base_uri": "https://localhost:8080/",
          "height": 532
        },
        "id": "MMwIUVoyInSp",
        "outputId": "733b614c-532f-472b-9a27-7cbfed3aba71"
      },
      "source": [
        "# plotting the age distributions of survivors and casualties\n",
        "\n",
        "sns.boxplot(x= train['Survived'], y=train['Age'], palette='cubehelix')\n",
        "plt.title(\"Comparison of casualties' and survivors' age distributions.\")"
      ],
      "execution_count": 27,
      "outputs": [
        {
          "output_type": "execute_result",
          "data": {
            "text/plain": [
              "Text(0.5, 1.0, \"Comparison of casualties' and survivors' age distributions.\")"
            ]
          },
          "metadata": {},
          "execution_count": 27
        },
        {
          "output_type": "display_data",
          "data": {
            "image/png": "[encoded data removed]",
            "text/plain": [
              "<Figure size 720x576 with 1 Axes>"
            ]
          },
          "metadata": {}
        }
      ]
    },
    {
      "cell_type": "markdown",
      "metadata": {
        "id": "9VvgfAmoIBIH"
      },
      "source": [
        "- The age mean of the casualties is slightly higher than that of the survivors."
      ]
    },
    {
      "cell_type": "code",
      "metadata": {
        "colab": {
          "base_uri": "https://localhost:8080/",
          "height": 517
        },
        "id": "evk0XZdLKGDa",
        "outputId": "43459ee2-75a6-48a9-8eea-31a11bf25a17"
      },
      "source": [
        "# plotting the number of male and female casualties and survivors\n",
        "\n",
        "sns.countplot(x= train['Sex'], hue= train['Survived'], palette='cubehelix')"
      ],
      "execution_count": 28,
      "outputs": [
        {
          "output_type": "execute_result",
          "data": {
            "text/plain": [
              "<matplotlib.axes._subplots.AxesSubplot at 0x7f6e5b19f610>"
            ]
          },
          "metadata": {},
          "execution_count": 28
        },
        {
          "output_type": "display_data",
          "data": {
            "image/png": "[encoded data removed]",
            "text/plain": [
              "<Figure size 720x576 with 1 Axes>"
            ]
          },
          "metadata": {}
        }
      ]
    },
    {
      "cell_type": "markdown",
      "metadata": {
        "id": "F_orHsQuIlbd"
      },
      "source": [
        "- A majority of the female population in the ship survived the shipwreck while a majority of the men did not."
      ]
    },
    {
      "cell_type": "code",
      "metadata": {
        "colab": {
          "base_uri": "https://localhost:8080/",
          "height": 514
        },
        "id": "NCKOVR2lOetf",
        "outputId": "5ddfd329-5aae-4f7f-baea-d5b070a7e8ef"
      },
      "source": [
        "# plotting the mean number of parents or children for survivors and casualties\n",
        "\n",
        "sns.barplot(x= train['Survived'], y= train['Parch'], palette='cubehelix')"
      ],
      "execution_count": 29,
      "outputs": [
        {
          "output_type": "execute_result",
          "data": {
            "text/plain": [
              "<matplotlib.axes._subplots.AxesSubplot at 0x7f6e5b214610>"
            ]
          },
          "metadata": {},
          "execution_count": 29
        },
        {
          "output_type": "display_data",
          "data": {
            "image/png": "[encoded data removed]",
            "text/plain": [
              "<Figure size 720x576 with 1 Axes>"
            ]
          },
          "metadata": {}
        }
      ]
    },
    {
      "cell_type": "markdown",
      "metadata": {
        "id": "WD7xh1aVKJc6"
      },
      "source": [
        "- The average number of parents/children accompanying the individual on the trip was higher for survivors."
      ]
    },
    {
      "cell_type": "code",
      "metadata": {
        "colab": {
          "base_uri": "https://localhost:8080/",
          "height": 514
        },
        "id": "no0T1JxxOPOY",
        "outputId": "541dafb7-1570-4a80-d4b6-21d58b37e628"
      },
      "source": [
        "# plotting the number of siblings or spouses an individual had on the journey against whether\n",
        "# they survived or not \n",
        "\n",
        "sns.barplot(x= train['Survived'], y= train['SibSp'], palette='cubehelix')"
      ],
      "execution_count": 30,
      "outputs": [
        {
          "output_type": "execute_result",
          "data": {
            "text/plain": [
              "<matplotlib.axes._subplots.AxesSubplot at 0x7f6e5b0f5bd0>"
            ]
          },
          "metadata": {},
          "execution_count": 30
        },
        {
          "output_type": "display_data",
          "data": {
            "image/png": "[encoded data removed]",
            "text/plain": [
              "<Figure size 720x576 with 1 Axes>"
            ]
          },
          "metadata": {}
        }
      ]
    },
    {
      "cell_type": "markdown",
      "metadata": {
        "id": "dkeVuNkyKwuQ"
      },
      "source": [
        "- The average number of spouses/siblings was higher for the casualties"
      ]
    },
    {
      "cell_type": "markdown",
      "metadata": {
        "id": "8W-zQQ0hGXY2"
      },
      "source": [
        "### Multivariate analysis"
      ]
    },
    {
      "cell_type": "code",
      "metadata": {
        "colab": {
          "base_uri": "https://localhost:8080/",
          "height": 504
        },
        "id": "scU2UQ4aMRrx",
        "outputId": "51d35649-2267-465d-f587-25503cac8ad6"
      },
      "source": [
        "# plotting the variable correlations\n",
        "sns.heatmap(train.corr())"
      ],
      "execution_count": 31,
      "outputs": [
        {
          "output_type": "execute_result",
          "data": {
            "text/plain": [
              "<matplotlib.axes._subplots.AxesSubplot at 0x7f6e5b068350>"
            ]
          },
          "metadata": {},
          "execution_count": 31
        },
        {
          "output_type": "display_data",
          "data": {
            "image/png": "[encoded data removed]",
            "text/plain": [
              "<Figure size 720x576 with 2 Axes>"
            ]
          },
          "metadata": {}
        }
      ]
    },
    {
      "cell_type": "markdown",
      "metadata": {
        "id": "d2xQx5-BLLtH"
      },
      "source": [
        "Number of siblings/spouses and number of parents/children seem to be the only columns that are related to each other."
      ]
    },
    {
      "cell_type": "markdown",
      "metadata": {
        "id": "dPFekYrNMb34"
      },
      "source": [
        "## K- Nearest Neighbours"
      ]
    },
    {
      "cell_type": "markdown",
      "metadata": {
        "id": "0pXrNYLBO0A8"
      },
      "source": [
        "#### Encoding my categorical data columns"
      ]
    },
    {
      "cell_type": "markdown",
      "metadata": {
        "id": "pIA0BQLvP1Hl"
      },
      "source": [
        "- These columns include:\n",
        "\n",
        "    1. Sex\n",
        "    2. Embarked"
      ]
    },
    {
      "cell_type": "code",
      "metadata": {
        "id": "Vxpl9rlmMlq4"
      },
      "source": [
        "def encode(data,col):\n",
        "\n",
        "  df = pd.get_dummies(data[col], drop_first=True)\n",
        "  return df\n",
        "\n",
        "sex =encode(train,'Sex')"
      ],
      "execution_count": 32,
      "outputs": []
    },
    {
      "cell_type": "code",
      "metadata": {
        "id": "QfYkr6qDQYts"
      },
      "source": [
        "embarked =encode(train,'Embarked')"
      ],
      "execution_count": 33,
      "outputs": []
    },
    {
      "cell_type": "code",
      "metadata": {
        "id": "1qZNyslZQiQI"
      },
      "source": [
        "# conatenating the three dataframes, the dummy dataframes and the original then dropping the \n",
        "# embarked and sex columns.\n",
        "Train = pd.concat([train, embarked, sex], axis=1)\n",
        "Train.drop(['Embarked','Sex'], axis=1, inplace=True)"
      ],
      "execution_count": 34,
      "outputs": []
    },
    {
      "cell_type": "code",
      "metadata": {
        "colab": {
          "base_uri": "https://localhost:8080/",
          "height": 204
        },
        "id": "k84-xyU_R782",
        "outputId": "c49d1e5f-6365-4b5f-a7dc-abc4819e83bb"
      },
      "source": [
        "# previewing the encoded dataframe\n",
        "Train.head()"
      ],
      "execution_count": 35,
      "outputs": [
        {
          "output_type": "execute_result",
          "data": {
            "text/html": [
              "<div>\n",
              "<style scoped>\n",
              "    .dataframe tbody tr th:only-of-type {\n",
              "        vertical-align: middle;\n",
              "    }\n",
              "\n",
              "    .dataframe tbody tr th {\n",
              "        vertical-align: top;\n",
              "    }\n",
              "\n",
              "    .dataframe thead th {\n",
              "        text-align: right;\n",
              "    }\n",
              "</style>\n",
              "<table border=\"1\" class=\"dataframe\">\n",
              "  <thead>\n",
              "    <tr style=\"text-align: right;\">\n",
              "      <th></th>\n",
              "      <th>Survived</th>\n",
              "      <th>Pclass</th>\n",
              "      <th>Age</th>\n",
              "      <th>SibSp</th>\n",
              "      <th>Parch</th>\n",
              "      <th>Fare</th>\n",
              "      <th>Q</th>\n",
              "      <th>S</th>\n",
              "      <th>male</th>\n",
              "    </tr>\n",
              "  </thead>\n",
              "  <tbody>\n",
              "    <tr>\n",
              "      <th>0</th>\n",
              "      <td>0</td>\n",
              "      <td>3</td>\n",
              "      <td>22.0</td>\n",
              "      <td>1</td>\n",
              "      <td>0</td>\n",
              "      <td>7.2500</td>\n",
              "      <td>0</td>\n",
              "      <td>1</td>\n",
              "      <td>1</td>\n",
              "    </tr>\n",
              "    <tr>\n",
              "      <th>1</th>\n",
              "      <td>1</td>\n",
              "      <td>1</td>\n",
              "      <td>38.0</td>\n",
              "      <td>1</td>\n",
              "      <td>0</td>\n",
              "      <td>71.2833</td>\n",
              "      <td>0</td>\n",
              "      <td>0</td>\n",
              "      <td>0</td>\n",
              "    </tr>\n",
              "    <tr>\n",
              "      <th>2</th>\n",
              "      <td>1</td>\n",
              "      <td>3</td>\n",
              "      <td>26.0</td>\n",
              "      <td>0</td>\n",
              "      <td>0</td>\n",
              "      <td>7.9250</td>\n",
              "      <td>0</td>\n",
              "      <td>1</td>\n",
              "      <td>0</td>\n",
              "    </tr>\n",
              "    <tr>\n",
              "      <th>3</th>\n",
              "      <td>1</td>\n",
              "      <td>1</td>\n",
              "      <td>35.0</td>\n",
              "      <td>1</td>\n",
              "      <td>0</td>\n",
              "      <td>53.1000</td>\n",
              "      <td>0</td>\n",
              "      <td>1</td>\n",
              "      <td>0</td>\n",
              "    </tr>\n",
              "    <tr>\n",
              "      <th>4</th>\n",
              "      <td>0</td>\n",
              "      <td>3</td>\n",
              "      <td>35.0</td>\n",
              "      <td>0</td>\n",
              "      <td>0</td>\n",
              "      <td>8.0500</td>\n",
              "      <td>0</td>\n",
              "      <td>1</td>\n",
              "      <td>1</td>\n",
              "    </tr>\n",
              "  </tbody>\n",
              "</table>\n",
              "</div>"
            ],
            "text/plain": [
              "   Survived  Pclass   Age  SibSp  Parch     Fare  Q  S  male\n",
              "0         0       3  22.0      1      0   7.2500  0  1     1\n",
              "1         1       1  38.0      1      0  71.2833  0  0     0\n",
              "2         1       3  26.0      0      0   7.9250  0  1     0\n",
              "3         1       1  35.0      1      0  53.1000  0  1     0\n",
              "4         0       3  35.0      0      0   8.0500  0  1     1"
            ]
          },
          "metadata": {},
          "execution_count": 35
        }
      ]
    },
    {
      "cell_type": "code",
      "metadata": {
        "colab": {
          "base_uri": "https://localhost:8080/"
        },
        "id": "6JJeg21uK3wh",
        "outputId": "54a31002-6a06-4d8a-ab22-44a764b11682"
      },
      "source": [
        "Train.dtypes"
      ],
      "execution_count": 36,
      "outputs": [
        {
          "output_type": "execute_result",
          "data": {
            "text/plain": [
              "Survived      int64\n",
              "Pclass        int64\n",
              "Age         float64\n",
              "SibSp         int64\n",
              "Parch         int64\n",
              "Fare        float64\n",
              "Q             uint8\n",
              "S             uint8\n",
              "male          uint8\n",
              "dtype: object"
            ]
          },
          "metadata": {},
          "execution_count": 36
        }
      ]
    },
    {
      "cell_type": "markdown",
      "metadata": {
        "id": "taV7laCfRLl3"
      },
      "source": [
        "#### Standardizing my data"
      ]
    },
    {
      "cell_type": "code",
      "metadata": {
        "id": "q1XbJiYrRKQn"
      },
      "source": [
        "# calling my standard scaler method\n",
        "\n",
        "sc = preprocessing.StandardScaler()\n",
        "\n",
        "# splitting my data into training and test sets\n",
        "y= Train['Survived'].values\n",
        "X= Train.drop(['Survived'], axis=1).values\n",
        "\n",
        "X_train, X_test, y_train, y_test = model_selection.train_test_split(X, y, test_size=0.2, random_state=98)\n",
        "\n",
        "# fitting and transforming the x_train and transforming x_test\n",
        "\n",
        "X_train = sc.fit_transform(X_train)\n",
        "X_test = sc.transform(X_test)"
      ],
      "execution_count": 37,
      "outputs": []
    },
    {
      "cell_type": "markdown",
      "metadata": {
        "id": "pxHl8O_QXapb"
      },
      "source": [
        "Performing LDA to maximize the separability of the categories. Larger distances between data points of different categories ensures higher accuracy during n_neighbours classification"
      ]
    },
    {
      "cell_type": "code",
      "metadata": {
        "id": "JG9Py9wdW_QL"
      },
      "source": [
        "# Instatiating LDA\n",
        "\n",
        "from sklearn.discriminant_analysis import LinearDiscriminantAnalysis\n",
        "\n",
        "LDA = LinearDiscriminantAnalysis()\n",
        "\n",
        "X_train = LDA.fit_transform(X_train, y_train)\n",
        "X_test = LDA.transform(X_test)"
      ],
      "execution_count": 38,
      "outputs": []
    },
    {
      "cell_type": "markdown",
      "metadata": {
        "id": "jd-EQbH5RTq_"
      },
      "source": [
        "#### Building my KNN model"
      ]
    },
    {
      "cell_type": "code",
      "metadata": {
        "colab": {
          "base_uri": "https://localhost:8080/"
        },
        "id": "uQfEEqNTRXJ_",
        "outputId": "aa0abc2f-11de-45f0-83b1-1088c14f8cef"
      },
      "source": [
        "# instatiating my knn classifier\n",
        "knn = neighbors.KNeighborsClassifier()\n",
        "\n",
        "# training the data\n",
        "model = knn.fit(X_train, y_train)\n",
        "\n",
        "# generating predicted values\n",
        "pred = model.predict(X_test)\n",
        "\n",
        "#computing the accuracy score\n",
        "model.score(X_test, y_test)"
      ],
      "execution_count": 39,
      "outputs": [
        {
          "output_type": "execute_result",
          "data": {
            "text/plain": [
              "0.6987179487179487"
            ]
          },
          "metadata": {},
          "execution_count": 39
        }
      ]
    },
    {
      "cell_type": "markdown",
      "metadata": {
        "id": "6fYxCg-EM2xH"
      },
      "source": [
        "- The accuracy of the model is 69.87%"
      ]
    },
    {
      "cell_type": "code",
      "metadata": {
        "colab": {
          "base_uri": "https://localhost:8080/"
        },
        "id": "Oe-XshdiVyMO",
        "outputId": "12414de2-c352-468e-c9dc-2d45898b2890"
      },
      "source": [
        "metrics.confusion_matrix(y_test, pred)"
      ],
      "execution_count": 40,
      "outputs": [
        {
          "output_type": "execute_result",
          "data": {
            "text/plain": [
              "array([[63, 16],\n",
              "       [31, 46]])"
            ]
          },
          "metadata": {},
          "execution_count": 40
        }
      ]
    },
    {
      "cell_type": "markdown",
      "metadata": {
        "id": "SYoFURb0WMxX"
      },
      "source": [
        "#### Optimizing my KNN model"
      ]
    },
    {
      "cell_type": "code",
      "metadata": {
        "colab": {
          "base_uri": "https://localhost:8080/"
        },
        "id": "YJiJYrPeWQ29",
        "outputId": "479d5aec-5596-4882-d16a-0e6415a9521c"
      },
      "source": [
        "# creating a dataframe with the parameter values to be plugged into the knn estimator\n",
        "param_dict = {\n",
        "    'n_neighbors': [1,3,5,7,9,11,13,14,15,17,19,21,23,25,27,29],\n",
        "    'metric': ['minkowski', 'eucledian', 'manhattan']\n",
        "}\n",
        "\n",
        "# instatiate GridSearchCV\n",
        "\n",
        "grid = model_selection.GridSearchCV(estimator= knn, param_grid=param_dict, n_jobs=-1, cv=10)\n",
        "\n",
        "grid.fit(X_train, y_train)\n",
        "\n",
        "# displaying the best parameters for my model.\n",
        "grid.best_params_"
      ],
      "execution_count": 41,
      "outputs": [
        {
          "output_type": "execute_result",
          "data": {
            "text/plain": [
              "{'metric': 'minkowski', 'n_neighbors': 13}"
            ]
          },
          "metadata": {},
          "execution_count": 41
        }
      ]
    },
    {
      "cell_type": "code",
      "metadata": {
        "colab": {
          "base_uri": "https://localhost:8080/"
        },
        "id": "22rOftHLcfTQ",
        "outputId": "a12a0a43-cef2-4b30-fd13-3c16b97953e4"
      },
      "source": [
        "# instatiating the new model, training data using the model and computing\n",
        "# the accuracy score\n",
        "\n",
        "new_model =grid.best_estimator_\n",
        "\n",
        "new_model =new_model.fit(X_train, y_train)\n",
        "\n",
        "\n",
        "new_model.score(X_test, y_test)"
      ],
      "execution_count": 42,
      "outputs": [
        {
          "output_type": "execute_result",
          "data": {
            "text/plain": [
              "0.7564102564102564"
            ]
          },
          "metadata": {},
          "execution_count": 42
        }
      ]
    },
    {
      "cell_type": "markdown",
      "metadata": {
        "id": "oHmHF_0KNafS"
      },
      "source": [
        "- The new score is better than the prior KNN model. I t acheived an accuracy of 75.64%."
      ]
    },
    {
      "cell_type": "code",
      "metadata": {
        "id": "n_MTJ8kvd4x9"
      },
      "source": [
        "# plotting a graph for accuracy of the model across the different n_neighbour values\n",
        "\n",
        "train_scores= []\n",
        "test_scores= []\n",
        "neighbours = list(np.arange(1,30,1))\n",
        "\n",
        "# creating a for loop that computes the accuracy of the model as the n_neighbours parameter value changes.\n",
        "for k in neighbours:\n",
        "\n",
        "  KNN = neighbors.KNeighborsClassifier(n_neighbors=k)\n",
        "  KNN = KNN.fit(X_train, y_train)\n",
        "\n",
        "  acc_train = KNN.score(X_train, y_train)\n",
        "  acc_test = KNN.score(X_test, y_test)\n",
        "\n",
        "  train_scores.append(acc_train)\n",
        "  test_scores.append(acc_test)"
      ],
      "execution_count": 43,
      "outputs": []
    },
    {
      "cell_type": "code",
      "metadata": {
        "colab": {
          "base_uri": "https://localhost:8080/",
          "height": 501
        },
        "id": "149iTUeMfXea",
        "outputId": "74afcc37-a160-43c7-dd1e-c23c47abddea"
      },
      "source": [
        "plt.plot(neighbours,train_scores, label='train accuracy')\n",
        "plt.plot(neighbours,test_scores, label='test accuracy')\n",
        "plt.title(\"Plot of testing and training accuracy across different vakues for n_neighbours\")\n",
        "plt.legend()\n",
        "plt.show()"
      ],
      "execution_count": 44,
      "outputs": [
        {
          "output_type": "display_data",
          "data": {
            "image/png": "[encoded data removed]",
            "text/plain": [
              "<Figure size 720x576 with 1 Axes>"
            ]
          },
          "metadata": {}
        }
      ]
    },
    {
      "cell_type": "markdown",
      "metadata": {
        "id": "g_WSun3xN6ul"
      },
      "source": [
        "- The tesing accuracy appear to peak about 13 or 14 n_neighbours."
      ]
    },
    {
      "cell_type": "code",
      "metadata": {
        "colab": {
          "base_uri": "https://localhost:8080/"
        },
        "id": "x-lk-yxBOjSo",
        "outputId": "d1feaaaf-b4ae-4ced-d24b-aa929f19ccf6"
      },
      "source": [
        "# changing the size of the splits to observe changes in the performance of the model if any.\n",
        "\n",
        "bx_train, bx_test, by_train, by_test = model_selection.train_test_split(X,y, test_size=.3, random_state=98)\n",
        "\n",
        "split_ano =grid.best_estimator_.fit(bx_train, by_train)\n",
        "split_ano.score(bx_test, by_test)"
      ],
      "execution_count": 45,
      "outputs": [
        {
          "output_type": "execute_result",
          "data": {
            "text/plain": [
              "0.6709401709401709"
            ]
          },
          "metadata": {},
          "execution_count": 45
        }
      ]
    },
    {
      "cell_type": "markdown",
      "metadata": {
        "id": "HCynWkkJRFKD"
      },
      "source": [
        "- The accuracy is lower using the 70:30 split."
      ]
    },
    {
      "cell_type": "code",
      "metadata": {
        "colab": {
          "base_uri": "https://localhost:8080/"
        },
        "id": "jk6yImh4P9yg",
        "outputId": "30b889a0-6b42-4064-d6d2-2452763eb95c"
      },
      "source": [
        "new_pred= split_ano.predict(bx_test)\n",
        "metrics.confusion_matrix(by_test, new_pred)"
      ],
      "execution_count": 47,
      "outputs": [
        {
          "output_type": "execute_result",
          "data": {
            "text/plain": [
              "array([[108,  23],\n",
              "       [ 54,  49]])"
            ]
          },
          "metadata": {},
          "execution_count": 47
        }
      ]
    },
    {
      "cell_type": "code",
      "metadata": {
        "colab": {
          "base_uri": "https://localhost:8080/"
        },
        "id": "wLbo_FxWQbhs",
        "outputId": "ceeedf92-b84a-48ed-c418-151cc6b3862e"
      },
      "source": [
        "ax_train, ax_test, ay_train, ay_test = model_selection.train_test_split(X,y, test_size=.4, random_state=98)\n",
        "\n",
        "split_ano =grid.best_estimator_.fit(ax_train, ay_train)\n",
        "print(split_ano.score(ax_test, ay_test))\n",
        "\n",
        "\n",
        "newer_pred= split_ano.predict(ax_test)\n",
        "metrics.confusion_matrix(ay_test, newer_pred)"
      ],
      "execution_count": 48,
      "outputs": [
        {
          "output_type": "stream",
          "name": "stdout",
          "text": [
            "0.6442307692307693\n"
          ]
        },
        {
          "output_type": "execute_result",
          "data": {
            "text/plain": [
              "array([[142,  31],\n",
              "       [ 80,  59]])"
            ]
          },
          "metadata": {},
          "execution_count": 48
        }
      ]
    },
    {
      "cell_type": "markdown",
      "metadata": {
        "id": "PSgJwWozRWwa"
      },
      "source": [
        "- The accuracy is even lower using the 60:40 split than the 70:30 split.\n",
        "\n"
      ]
    },
    {
      "cell_type": "markdown",
      "metadata": {
        "id": "LXTjd2QHmQFr"
      },
      "source": [
        "Predicting the categories in the test dataframe:"
      ]
    },
    {
      "cell_type": "code",
      "metadata": {
        "colab": {
          "base_uri": "https://localhost:8080/",
          "height": 419
        },
        "id": "D-1q8xYqmWzr",
        "outputId": "72b5eac5-2c95-4909-fd3c-a1cdf356c55e"
      },
      "source": [
        "# encoding the columns in test\n",
        "\n",
        "tst_sex =encode(test, 'Sex')\n",
        "tst_loc =encode(test, 'Embarked')\n",
        "\n",
        "Test = pd.concat([test, tst_sex,tst_loc], axis=1)\n",
        "Test.drop(['Embarked','Sex'], axis=1,inplace=True)\n",
        "Test"
      ],
      "execution_count": 49,
      "outputs": [
        {
          "output_type": "execute_result",
          "data": {
            "text/html": [
              "<div>\n",
              "<style scoped>\n",
              "    .dataframe tbody tr th:only-of-type {\n",
              "        vertical-align: middle;\n",
              "    }\n",
              "\n",
              "    .dataframe tbody tr th {\n",
              "        vertical-align: top;\n",
              "    }\n",
              "\n",
              "    .dataframe thead th {\n",
              "        text-align: right;\n",
              "    }\n",
              "</style>\n",
              "<table border=\"1\" class=\"dataframe\">\n",
              "  <thead>\n",
              "    <tr style=\"text-align: right;\">\n",
              "      <th></th>\n",
              "      <th>Pclass</th>\n",
              "      <th>Age</th>\n",
              "      <th>SibSp</th>\n",
              "      <th>Parch</th>\n",
              "      <th>Fare</th>\n",
              "      <th>male</th>\n",
              "      <th>Q</th>\n",
              "      <th>S</th>\n",
              "    </tr>\n",
              "  </thead>\n",
              "  <tbody>\n",
              "    <tr>\n",
              "      <th>0</th>\n",
              "      <td>3</td>\n",
              "      <td>34.500000</td>\n",
              "      <td>0</td>\n",
              "      <td>0</td>\n",
              "      <td>7.8292</td>\n",
              "      <td>1</td>\n",
              "      <td>1</td>\n",
              "      <td>0</td>\n",
              "    </tr>\n",
              "    <tr>\n",
              "      <th>1</th>\n",
              "      <td>3</td>\n",
              "      <td>47.000000</td>\n",
              "      <td>1</td>\n",
              "      <td>0</td>\n",
              "      <td>7.0000</td>\n",
              "      <td>0</td>\n",
              "      <td>0</td>\n",
              "      <td>1</td>\n",
              "    </tr>\n",
              "    <tr>\n",
              "      <th>2</th>\n",
              "      <td>2</td>\n",
              "      <td>62.000000</td>\n",
              "      <td>0</td>\n",
              "      <td>0</td>\n",
              "      <td>9.6875</td>\n",
              "      <td>1</td>\n",
              "      <td>1</td>\n",
              "      <td>0</td>\n",
              "    </tr>\n",
              "    <tr>\n",
              "      <th>3</th>\n",
              "      <td>3</td>\n",
              "      <td>27.000000</td>\n",
              "      <td>0</td>\n",
              "      <td>0</td>\n",
              "      <td>8.6625</td>\n",
              "      <td>1</td>\n",
              "      <td>0</td>\n",
              "      <td>1</td>\n",
              "    </tr>\n",
              "    <tr>\n",
              "      <th>4</th>\n",
              "      <td>3</td>\n",
              "      <td>22.000000</td>\n",
              "      <td>1</td>\n",
              "      <td>1</td>\n",
              "      <td>12.2875</td>\n",
              "      <td>0</td>\n",
              "      <td>0</td>\n",
              "      <td>1</td>\n",
              "    </tr>\n",
              "    <tr>\n",
              "      <th>...</th>\n",
              "      <td>...</td>\n",
              "      <td>...</td>\n",
              "      <td>...</td>\n",
              "      <td>...</td>\n",
              "      <td>...</td>\n",
              "      <td>...</td>\n",
              "      <td>...</td>\n",
              "      <td>...</td>\n",
              "    </tr>\n",
              "    <tr>\n",
              "      <th>413</th>\n",
              "      <td>3</td>\n",
              "      <td>27.090863</td>\n",
              "      <td>0</td>\n",
              "      <td>0</td>\n",
              "      <td>8.0500</td>\n",
              "      <td>1</td>\n",
              "      <td>0</td>\n",
              "      <td>1</td>\n",
              "    </tr>\n",
              "    <tr>\n",
              "      <th>414</th>\n",
              "      <td>1</td>\n",
              "      <td>39.000000</td>\n",
              "      <td>0</td>\n",
              "      <td>0</td>\n",
              "      <td>108.9000</td>\n",
              "      <td>0</td>\n",
              "      <td>0</td>\n",
              "      <td>0</td>\n",
              "    </tr>\n",
              "    <tr>\n",
              "      <th>415</th>\n",
              "      <td>3</td>\n",
              "      <td>38.500000</td>\n",
              "      <td>0</td>\n",
              "      <td>0</td>\n",
              "      <td>7.2500</td>\n",
              "      <td>1</td>\n",
              "      <td>0</td>\n",
              "      <td>1</td>\n",
              "    </tr>\n",
              "    <tr>\n",
              "      <th>416</th>\n",
              "      <td>3</td>\n",
              "      <td>27.090863</td>\n",
              "      <td>0</td>\n",
              "      <td>0</td>\n",
              "      <td>8.0500</td>\n",
              "      <td>1</td>\n",
              "      <td>0</td>\n",
              "      <td>1</td>\n",
              "    </tr>\n",
              "    <tr>\n",
              "      <th>417</th>\n",
              "      <td>3</td>\n",
              "      <td>27.090863</td>\n",
              "      <td>1</td>\n",
              "      <td>1</td>\n",
              "      <td>22.3583</td>\n",
              "      <td>1</td>\n",
              "      <td>0</td>\n",
              "      <td>0</td>\n",
              "    </tr>\n",
              "  </tbody>\n",
              "</table>\n",
              "<p>418 rows × 8 columns</p>\n",
              "</div>"
            ],
            "text/plain": [
              "     Pclass        Age  SibSp  Parch      Fare  male  Q  S\n",
              "0         3  34.500000      0      0    7.8292     1  1  0\n",
              "1         3  47.000000      1      0    7.0000     0  0  1\n",
              "2         2  62.000000      0      0    9.6875     1  1  0\n",
              "3         3  27.000000      0      0    8.6625     1  0  1\n",
              "4         3  22.000000      1      1   12.2875     0  0  1\n",
              "..      ...        ...    ...    ...       ...   ... .. ..\n",
              "413       3  27.090863      0      0    8.0500     1  0  1\n",
              "414       1  39.000000      0      0  108.9000     0  0  0\n",
              "415       3  38.500000      0      0    7.2500     1  0  1\n",
              "416       3  27.090863      0      0    8.0500     1  0  1\n",
              "417       3  27.090863      1      1   22.3583     1  0  0\n",
              "\n",
              "[418 rows x 8 columns]"
            ]
          },
          "metadata": {},
          "execution_count": 49
        }
      ]
    },
    {
      "cell_type": "code",
      "metadata": {
        "id": "13ytTDyqnuNo"
      },
      "source": [
        "# dropping duplicates\n",
        "Test.drop_duplicates(inplace=True)"
      ],
      "execution_count": 50,
      "outputs": []
    },
    {
      "cell_type": "code",
      "metadata": {
        "id": "-OSdyOKdn4bQ"
      },
      "source": [
        "# dropping null values\n",
        "Test.dropna(inplace=True)"
      ],
      "execution_count": 51,
      "outputs": []
    },
    {
      "cell_type": "code",
      "metadata": {
        "id": "Wo2HmEExnHSj"
      },
      "source": [
        "# standardizing our data and perfroming LDA\n",
        "std_test = sc.transform(Test)\n",
        "test = LDA.transform(Test)"
      ],
      "execution_count": 52,
      "outputs": []
    },
    {
      "cell_type": "code",
      "metadata": {
        "colab": {
          "base_uri": "https://localhost:8080/"
        },
        "id": "Rc4DXC4BTRoE",
        "outputId": "982eeef3-5920-435f-a503-836fd0f1e228"
      },
      "source": [
        "predicted_values =new_model.predict(Test)\n",
        "predicted_values =pd.DataFrame(predicted_values)\n",
        "predicted_values.value_counts()"
      ],
      "execution_count": 58,
      "outputs": [
        {
          "output_type": "execute_result",
          "data": {
            "text/plain": [
              "0    266\n",
              "1    113\n",
              "dtype: int64"
            ]
          },
          "metadata": {},
          "execution_count": 58
        }
      ]
    },
    {
      "cell_type": "markdown",
      "metadata": {
        "id": "wyWlSOMQUNOu"
      },
      "source": [
        "- The records in the test dataframe have 266 of them being classified as casualties and 113 being classified as survivors."
      ]
    }
  ]
}